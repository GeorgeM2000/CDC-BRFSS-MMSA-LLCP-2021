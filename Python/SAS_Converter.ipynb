{
 "cells": [
  {
   "cell_type": "code",
   "execution_count": 1,
   "metadata": {},
   "outputs": [],
   "source": [
    "from pathlib import Path\n",
    "import pandas as pd"
   ]
  },
  {
   "cell_type": "code",
   "execution_count": 2,
   "metadata": {},
   "outputs": [],
   "source": [
    "PROCESSED_FILE_PATH_PARQUET = 'LLCP_2021.parquet'\n",
    "PROCESSED_FILE_PATH_CSV = 'LLCP_2021.csv'"
   ]
  },
  {
   "cell_type": "code",
   "execution_count": 3,
   "metadata": {},
   "outputs": [],
   "source": [
    "# Change the file path\n",
    "RAW_FILE_PATH = 'LLCP2021XPT/LLCP_2021.XPT'"
   ]
  },
  {
   "cell_type": "code",
   "execution_count": 4,
   "metadata": {},
   "outputs": [],
   "source": [
    "def sas_converter(path: str, dest_path: str, file_format: str):\n",
    "    assert file_format in ['csv', 'parquet']\n",
    "    \n",
    "    try:\n",
    "        #df = pd.read_sas(path, encoding='utf-8')\n",
    "        df = pd.read_sas(path)\n",
    "    except pd.errors.ParserError as pe:\n",
    "        # Catch specific ParserError related to SAS file parsing\n",
    "        print(\"Error parsing SAS file:\", pe)\n",
    "    except Exception as e:\n",
    "        print('Not a valid SAS file.')\n",
    "        print(e)\n",
    "    else:\n",
    "        if file_format == 'csv':\n",
    "            df.to_csv(dest_path, index=False)\n",
    "        elif file_format == 'parquet':\n",
    "            df.to_parquet(dest_path, index=False)"
   ]
  },
  {
   "cell_type": "code",
   "execution_count": 5,
   "metadata": {},
   "outputs": [],
   "source": [
    "sas_converter(path=RAW_FILE_PATH, dest_path=PROCESSED_FILE_PATH_CSV, file_format='csv')"
   ]
  }
 ],
 "metadata": {
  "kernelspec": {
   "display_name": "CDC-BRFSS",
   "language": "python",
   "name": "python3"
  },
  "language_info": {
   "codemirror_mode": {
    "name": "ipython",
    "version": 3
   },
   "file_extension": ".py",
   "mimetype": "text/x-python",
   "name": "python",
   "nbconvert_exporter": "python",
   "pygments_lexer": "ipython3",
   "version": "3.10.12"
  }
 },
 "nbformat": 4,
 "nbformat_minor": 2
}
